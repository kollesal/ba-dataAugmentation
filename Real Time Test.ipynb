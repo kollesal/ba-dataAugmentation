{
 "cells": [
  {
   "cell_type": "code",
   "execution_count": 1,
   "metadata": {},
   "outputs": [],
   "source": [
    "# Model laden\n",
    "from tensorflow import keras\n",
    "model = keras.models.load_model('models/sliding_window/sw_rnn_a_cv_5f_64n/')"
   ]
  },
  {
   "cell_type": "code",
   "execution_count": 2,
   "metadata": {},
   "outputs": [],
   "source": [
    "# Benötigte Libraries importieren\n",
    "import cv2\n",
    "import mediapipe as mp\n",
    "import pandas as pd\n",
    "import numpy as np\n",
    "from matplotlib import pyplot as plt"
   ]
  },
  {
   "cell_type": "code",
   "execution_count": 8,
   "metadata": {},
   "outputs": [],
   "source": [
    "# Zeichnen der Landmarks\n",
    "mp_drawing = mp.solutions.drawing_utils\n",
    "# Erkennen der Landmarks\n",
    "mp_pose = mp.solutions.pose\n",
    "\n",
    "# Aus True setzen, falls die Person Linkshänder ist oder das Bild gespiegelt ist.\n",
    "flip_image = False\n",
    "\n",
    "# Sequenz der zu klassifizierenden Landmarks\n",
    "sequence = []\n",
    "# Predictions jedes Sliding Windows\n",
    "predictions = []\n",
    "# Threshold für die Klassifizierung\n",
    "threshold = 0.5\n",
    "# String, welcher dem Benutzenden im Bild angezeigt wird\n",
    "prediction = ''\n",
    "\n",
    "# Gewünschte Window-Size (kann auch grösser sein als die des verwendeten Modells)\n",
    "n_frames = 20\n",
    "\n",
    "# Bei mehreren Webcams kann hier die Nummer angepasst werden\n",
    "cap = cv2.VideoCapture(0)\n",
    "\n",
    "# Writer für das Aufzeichnen und Speichern eines Videos\n",
    "width = int(cap.get(cv2.CAP_PROP_FRAME_WIDTH))\n",
    "height = int(cap.get(cv2.CAP_PROP_FRAME_HEIGHT))\n",
    "writer = cv2.VideoWriter('trink_video.mp4', cv2.VideoWriter_fourcc(*'DIVX'), 20, (width,height))\n",
    "\n",
    "# Set mediapipe model \n",
    "with mp_pose.Pose(\n",
    "                min_detection_confidence=0.5,\n",
    "                min_tracking_confidence=0.5) as pose:\n",
    "    while cap.isOpened():\n",
    "\n",
    "        # Read feed\n",
    "        ret, frame = cap.read()\n",
    "        \n",
    "        if flip_image:\n",
    "            frame = cv2.flip(frame, 1)\n",
    "        \n",
    "        # Landmarks lesen und speichern\n",
    "        results = pose.process(frame)\n",
    "        pose_landmarks = results.pose_landmarks\n",
    "        \n",
    "        # Landmarks auf den Frame zeichnen\n",
    "        mp_drawing.draw_landmarks(frame, results.pose_landmarks, mp_pose.POSE_CONNECTIONS, \n",
    "                                 mp_drawing.DrawingSpec(color=(0,0,255), thickness=2, circle_radius=4), \n",
    "                                 mp_drawing.DrawingSpec(color=(255,255,255), thickness=2, circle_radius=2))\n",
    "        \n",
    "        # Falls Landmarks erkannt wurden, werden diese der zu klassifizierenden Sequenz hinzugefügt\n",
    "        if pose_landmarks is not None:\n",
    "            # Get landmarks\n",
    "            frame_height, frame_width = frame.shape[0], frame.shape[1]\n",
    "            pose_landmarks = np.array(\n",
    "                [[lmk.x * frame_width, lmk.y * frame_height, lmk.z * frame_width]\n",
    "                 for lmk in pose_landmarks.landmark],\n",
    "                dtype=np.float32).flatten()\n",
    "            sequence.append(list(pose_landmarks))\n",
    "            # Die Sequenz hat jeweils nur die Länge der gesetzen Window-Länge (n_frames)\n",
    "            sequence = sequence[-n_frames:]\n",
    "\n",
    "        # Wenn die gesetze Länge erreicht wurde, wird mit der Modell eine Kompensationswahrscheinlichkeit berechnet.\n",
    "        if len(sequence) == n_frames:\n",
    "            res = model.predict(np.expand_dims(sequence, axis=0))[0]\n",
    "            predictions.append(res)\n",
    "            if res < threshold:\n",
    "                prediction = 'Natural'\n",
    "            else:\n",
    "                prediction = 'Kompensation'\n",
    "            \n",
    "            # Rechteck und Text auf Frame schreiben\n",
    "            frame = cv2.rectangle(frame, (5, 5), (350, 60), (0, 0, 0), -1)\n",
    "            cv2.putText(frame, ' '.join(prediction), (9,25), \n",
    "                       cv2.FONT_HERSHEY_SIMPLEX, 0.5, (255, 255, 255), 2, cv2.LINE_AA)\n",
    "            cv2.putText(frame, str(round(100*res[0], 2))+'% Kompensationswahrscheinlichkeit', (9,50), \n",
    "                       cv2.FONT_HERSHEY_SIMPLEX, 0.5, (255, 255, 255), 1, cv2.LINE_AA)\n",
    "        \n",
    "        # Frame in aufgezeichnetes Video speichern\n",
    "        writer.write(frame)\n",
    "        \n",
    "        # Frame im Fenster anzeigen \n",
    "        cv2.imshow('Real Time Kompensationserkennung', frame)\n",
    "\n",
    "        # Fenster schliessen, wenn 'q' gedrückt wird\n",
    "        if cv2.waitKey(10) & 0xFF == ord('q'):\n",
    "            break\n",
    "    cap.release()\n",
    "    writer.release()\n",
    "    cv2.destroyAllWindows()"
   ]
  },
  {
   "cell_type": "code",
   "execution_count": 9,
   "metadata": {},
   "outputs": [
    {
     "name": "stdout",
     "output_type": "stream",
     "text": [
      "Anteil der Kompensation während des Trinkvorganges: 85.70%\n"
     ]
    }
   ],
   "source": [
    "print(\"Anteil der Kompensation während des Trinkvorganges: %.2f%%\" % (np.mean(predictions)*100))"
   ]
  },
  {
   "cell_type": "code",
   "execution_count": 10,
   "metadata": {},
   "outputs": [
    {
     "data": {
      "text/plain": [
       "Text(0, 0.5, 'Kompensationswahrscheinlichkeit')"
      ]
     },
     "execution_count": 10,
     "metadata": {},
     "output_type": "execute_result"
    },
    {
     "data": {
      "image/png": "[encoded data removed]",
      "text/plain": [
       "<Figure size 432x288 with 1 Axes>"
      ]
     },
     "metadata": {
      "needs_background": "light"
     },
     "output_type": "display_data"
    }
   ],
   "source": [
    "'''\n",
    "Hier wird der zeitliche Verlauf der Kompensastionswahrscheinlichkeit grafisch dargestellt.\n",
    "'''\n",
    "plt.plot(predictions, label=\"Kompensation\")\n",
    "plt.legend()\n",
    "plt.title(label=\"Kompensationswahrscheinlichkeit während des Trinkverlaufes\")\n",
    "plt.xlabel('Frameanzahl')\n",
    "plt.ylabel('Kompensationswahrscheinlichkeit')"
   ]
  },
  {
   "cell_type": "code",
   "execution_count": null,
   "metadata": {},
   "outputs": [],
   "source": []
  }
 ],
 "metadata": {
  "kernelspec": {
   "display_name": "Python 3",
   "language": "python",
   "name": "python3"
  },
  "language_info": {
   "codemirror_mode": {
    "name": "ipython",
    "version": 3
   },
   "file_extension": ".py",
   "mimetype": "text/x-python",
   "name": "python",
   "nbconvert_exporter": "python",
   "pygments_lexer": "ipython3",
   "version": "3.8.3"
  }
 },
 "nbformat": 4,
 "nbformat_minor": 4
}
